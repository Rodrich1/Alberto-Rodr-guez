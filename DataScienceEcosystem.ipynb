{
 "cells": [
  {
   "cell_type": "markdown",
   "id": "cf3f81b0-1ca7-4043-b6fb-c2f6be3b3e5a",
   "metadata": {},
   "source": [
    "# Data Science Tools and Ecosystem"
   ]
  },
  {
   "cell_type": "markdown",
   "id": "0233caba-069c-4d12-ac44-2e0abf70e755",
   "metadata": {},
   "source": [
    "In this notebook, Data Science Tools and Ecosystem are summarized."
   ]
  },
  {
   "cell_type": "markdown",
   "id": "91968fd8-2236-43c9-af56-bbf62a8d85ef",
   "metadata": {},
   "source": [
    "# Objectives:\n",
    "1. This notebook helped you learn the commands to set font size, create mathematical expressions, and create tables.\n",
    "2. Identify Jupyter Notebook commands.\n",
    "3. Identify data science languages.\n",
    "\n",
    "List popular languages for Data\n",
    "- Python\n",
    "- Julia\n",
    "- R\n"
   ]
  },
  {
   "cell_type": "markdown",
   "id": "040189a2-69e8-432e-a427-0bd7509552e1",
   "metadata": {},
   "source": [
    "# Some of the popular languages that Data Scientists use are:\n",
    "1. C++\n",
    "2. C\n",
    "3. Java\n",
    "4. Python"
   ]
  },
  {
   "cell_type": "markdown",
   "id": "317a2636-4282-4e43-b2c7-a98ed3e47df7",
   "metadata": {},
   "source": [
    "# Some of the commonly used libraries used by Data Scientists include:\n",
    "1. Pandas\n",
    "2. Numpy\n",
    "3. SciPy\n",
    "4. TensorFlow"
   ]
  },
  {
   "cell_type": "markdown",
   "id": "fec0b62d-9e61-4b0b-ad2d-c294939d6cb5",
   "metadata": {},
   "source": [
    "| Data Science Tools |\n",
    "| -------------------|\n",
    "| Jupyter Notebook   |\n",
    "| Apache Spark       |\n",
    "| Spyder             |\n"
   ]
  },
  {
   "cell_type": "markdown",
   "id": "adce24f9-fe98-43f6-ae7d-29e7b7fb1adc",
   "metadata": {},
   "source": [
    "### Below are a few examples of evaluating arithmetic expressions in Python"
   ]
  },
  {
   "cell_type": "code",
   "execution_count": 7,
   "id": "db076709-fd42-4513-8785-3597f79467d5",
   "metadata": {
    "tags": []
   },
   "outputs": [
    {
     "data": {
      "text/plain": [
       "17"
      ]
     },
     "execution_count": 7,
     "metadata": {},
     "output_type": "execute_result"
    }
   ],
   "source": [
    "# This a simple arithmetic expression to mutiply then add integers\n",
    "( 3 * 4 ) + 5"
   ]
  },
  {
   "cell_type": "code",
   "execution_count": null,
   "id": "41094127-ec40-4a9e-a279-5e8c661bb908",
   "metadata": {
    "tags": []
   },
   "outputs": [],
   "source": [
    "minutes = int(input(\"Ingrese la cantidad de minutos a convertir: \"))\n",
    "result = (minute * 1) / 60\n",
    "print(minuto, \"minutos es:\", resultado, \"horas\")"
   ]
  },
  {
   "cell_type": "markdown",
   "id": "eb523cc5-efeb-4632-aaea-f7bfff179408",
   "metadata": {
    "tags": []
   },
   "source": [
    "## Author\n",
    "Name: Alberto Rodriguez"
   ]
  },
  {
   "cell_type": "code",
   "execution_count": null,
   "id": "1c506477-106a-45b2-b92d-24a5bfea1f0e",
   "metadata": {},
   "outputs": [],
   "source": []
  }
 ],
 "metadata": {
  "kernelspec": {
   "display_name": "Python",
   "language": "python",
   "name": "conda-env-python-py"
  },
  "language_info": {
   "codemirror_mode": {
    "name": "ipython",
    "version": 3
   },
   "file_extension": ".py",
   "mimetype": "text/x-python",
   "name": "python",
   "nbconvert_exporter": "python",
   "pygments_lexer": "ipython3",
   "version": "3.7.12"
  }
 },
 "nbformat": 4,
 "nbformat_minor": 5
}
